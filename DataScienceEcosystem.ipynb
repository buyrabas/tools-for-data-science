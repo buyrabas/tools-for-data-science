{
 "cells": [
  {
   "cell_type": "markdown",
   "id": "98e0d82f-f86a-4490-ae49-861df4c3660d",
   "metadata": {},
   "source": [
    "# Data Science Tools and Ecosystem"
   ]
  },
  {
   "cell_type": "markdown",
   "id": "5bdae595-32d0-4487-a85e-3f9f974fb41d",
   "metadata": {},
   "source": [
    "In this notebook, Data Science Tools and Ecosystem are summarized."
   ]
  },
  {
   "cell_type": "markdown",
   "id": "5ac60184-baca-4a0e-a907-6ad9acb2f9e4",
   "metadata": {},
   "source": [
    "**Objectives:**\n",
    "* Provide a list of popular Data Science languages\n",
    "* Specify examples of libraries used in Data Science\n",
    "* Showcase the performance of arithmetic operations\n"
   ]
  },
  {
   "cell_type": "markdown",
   "id": "dc00568b-5543-4b36-921c-ef90a4e47982",
   "metadata": {},
   "source": [
    "## Author\n",
    "Bagdat Kussaiyn"
   ]
  },
  {
   "cell_type": "markdown",
   "id": "fdcec9d7-b00f-4820-ad78-ce6800e99e16",
   "metadata": {},
   "source": [
    "Some of the popular languages that Data Scientists use are:\n",
    "1. Python\n",
    "2. R\n",
    "3. SQL"
   ]
  },
  {
   "cell_type": "markdown",
   "id": "38805b14-e5cc-4b09-abee-aeaeecca60c0",
   "metadata": {},
   "source": [
    "Some of the commonly used libraries used by Data Scientists include:\n",
    "1. NumPy\n",
    "2. Pandas\n",
    "3. Seaborn"
   ]
  },
  {
   "cell_type": "markdown",
   "id": "fffd6f2c-940d-4ae7-97e2-329361fc9662",
   "metadata": {},
   "source": [
    "|Data Science Tools|\n",
    "|------------------|\n",
    "|JupyterLab|\n",
    "|Jupyter Notebook|\n",
    "|RStudio|"
   ]
  },
  {
   "cell_type": "markdown",
   "id": "11a27e02-63f0-4656-a52c-025b54148bc1",
   "metadata": {},
   "source": [
    "### Below are a few examples of evaluating arithmetic expressions in Python"
   ]
  },
  {
   "cell_type": "code",
   "execution_count": 3,
   "id": "b35cf551-d3f2-4cb4-ad45-a221f4da5680",
   "metadata": {},
   "outputs": [
    {
     "data": {
      "text/plain": [
       "17"
      ]
     },
     "execution_count": 3,
     "metadata": {},
     "output_type": "execute_result"
    }
   ],
   "source": [
    "#This a simple arithmetic expression to mutiply then add integers\n",
    "(3*4)+5"
   ]
  },
  {
   "cell_type": "code",
   "execution_count": null,
   "id": "d60b8958-096e-4cd4-bc18-dbe44b62d105",
   "metadata": {},
   "outputs": [
    {
     "data": {
      "text/plain": [
       "3.3333333333333335"
      ]
     },
     "execution_count": 4,
     "metadata": {},
     "output_type": "execute_result"
    }
   ],
   "source": [
    "#This will convert 200 minutes to hours by diving by 60\n",
    "200/60"
   ]
  }
 ],
 "metadata": {
  "kernelspec": {
   "display_name": "Python 3 (ipykernel)",
   "language": "python",
   "name": "python3"
  },
  "language_info": {
   "codemirror_mode": {
    "name": "ipython",
    "version": 3
   },
   "file_extension": ".py",
   "mimetype": "text/x-python",
   "name": "python",
   "nbconvert_exporter": "python",
   "pygments_lexer": "ipython3",
   "version": "3.9.12"
  }
 },
 "nbformat": 4,
 "nbformat_minor": 5
}
